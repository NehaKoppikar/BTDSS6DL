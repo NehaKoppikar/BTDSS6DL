{
  "nbformat": 4,
  "nbformat_minor": 0,
  "metadata": {
    "kernelspec": {
      "display_name": "Python 3",
      "language": "python",
      "name": "python3"
    },
    "language_info": {
      "codemirror_mode": {
        "name": "ipython",
        "version": 3
      },
      "file_extension": ".py",
      "mimetype": "text/x-python",
      "name": "python",
      "nbconvert_exporter": "python",
      "pygments_lexer": "ipython3",
      "version": "3.6.6"
    },
    "colab": {
      "name": "L1.ipynb",
      "provenance": [],
      "include_colab_link": true
    }
  },
  "cells": [
    {
      "cell_type": "markdown",
      "metadata": {
        "id": "view-in-github",
        "colab_type": "text"
      },
      "source": [
        "<a href=\"https://colab.research.google.com/github/NehaKoppikar/BTDSS6DL/blob/master/Theory/L1.ipynb\" target=\"_parent\"><img src=\"https://colab.research.google.com/assets/colab-badge.svg\" alt=\"Open In Colab\"/></a>"
      ]
    },
    {
      "cell_type": "markdown",
      "metadata": {
        "id": "h8yaC7rxowlT",
        "colab_type": "text"
      },
      "source": [
        "RECAP: WHY DO WE NEED ML?\n",
        "\n",
        "1. When we don't know how to program something because you don't know how it works\n",
        "2. When there might be a large number of rules that change easily\n",
        "3. But when we have a large number of cases where we know the outputs\n",
        "4. Recognizing patterns - recognizing absence of patterns (i.e. anamolies)\n",
        "5. Predicting the future"
      ]
    },
    {
      "cell_type": "markdown",
      "metadata": {
        "id": "lgztGwB7owlX",
        "colab_type": "text"
      },
      "source": [
        "Visual Pattern recognition - Textbook case for applying ML\n",
        "- Visual patterns intuitive to recognize \n",
        "- Extremely hard to define\n",
        "- Huge collection of internet users generate lots of labelled data"
      ]
    },
    {
      "cell_type": "markdown",
      "metadata": {
        "id": "P--ILKOmowlZ",
        "colab_type": "text"
      },
      "source": [
        "Magic of ML\n",
        "- Relatively few lines of code + Tons of Data + Tons of Compute = Solution to this hard problem"
      ]
    },
    {
      "cell_type": "markdown",
      "metadata": {
        "id": "B9t0rfszowlf",
        "colab_type": "text"
      },
      "source": [
        "Think of yourself as an online clothes marketplace.\n",
        "Hundreds of vendors joining your website\n",
        "Millions of customers\n",
        "You need some automatic way of recommending the products to the right customers\n",
        "Neither the vendor or the customer are going to fill lengthy forms!\n",
        "You need to automate this process\n"
      ]
    },
    {
      "cell_type": "markdown",
      "metadata": {
        "id": "8DKVe9kRowli",
        "colab_type": "text"
      },
      "source": [
        "Fashion-MNIST is a dataset of Zalando's article images"
      ]
    },
    {
      "cell_type": "code",
      "metadata": {
        "id": "kv1lJ-T2owll",
        "colab_type": "code",
        "colab": {}
      },
      "source": [
        "#Load the dataset from Keras\n",
        "from keras.datasets import fashion_mnist\n",
        "((trainX, trainY), (testX, testY)) = fashion_mnist.load_data()"
      ],
      "execution_count": 0,
      "outputs": []
    },
    {
      "cell_type": "markdown",
      "metadata": {
        "id": "9E3yyIUJowl2",
        "colab_type": "text"
      },
      "source": [
        "Consists of \n",
        "a training set of 60,000 examples \n",
        "a test set of 10,000 examples. \n",
        "\n",
        "Each example is a 28x28 grayscale image, associated with a label from 10 classes. \n"
      ]
    },
    {
      "cell_type": "code",
      "metadata": {
        "id": "XZvGHzngowl_",
        "colab_type": "code",
        "colab": {},
        "outputId": "8b311239-82e3-4bc0-e077-03231f667598"
      },
      "source": [
        "#Check the number of training and test examples\n",
        "print(\"Training Samples:\", len(trainX))\n",
        "print(\"Test Samples:\", len(testX))\n",
        "\n",
        "#Assign Labels\n",
        "labels=dict( {\n",
        "\"0\": \"T-shirt/top\",\n",
        "\"1\": \"Trouser\",\n",
        "\"2\": \"Pullover\",\n",
        "\"3\": \"Dress\",\n",
        "\"4\": \"Coat\",\n",
        "\"5\": \"Sandal\",\n",
        "\"6\": \"Shirt\",\n",
        "\"7\": \"Sneaker\",\n",
        "\"8\": \"Bag\",\n",
        "\"9\": \"Ankle boot\"\n",
        "})\n",
        "\n",
        "#Takes in an index and print the corresponding label\n",
        "def label(index):\n",
        "    return labels[str(index)]"
      ],
      "execution_count": 0,
      "outputs": [
        {
          "output_type": "stream",
          "text": [
            "Training Samples: 60000\n",
            "Test Samples: 10000\n"
          ],
          "name": "stdout"
        }
      ]
    },
    {
      "cell_type": "markdown",
      "metadata": {
        "id": "C3mfBCdtowmU",
        "colab_type": "text"
      },
      "source": [
        "Visualize a scaled up version of the data to gain intuition"
      ]
    },
    {
      "cell_type": "code",
      "metadata": {
        "id": "j5ZYRjalowmV",
        "colab_type": "code",
        "colab": {},
        "outputId": "9bd37688-69d0-4068-fd7e-5cb529fb6609"
      },
      "source": [
        "%matplotlib inline\n",
        "import matplotlib.pyplot as plt\n",
        "import time\n",
        "import pylab as pl\n",
        "from IPython import display\n",
        "\n",
        "num_images_to_viz=10\n",
        "for i in range(num_images_to_viz):\n",
        "\n",
        "    plt.imshow(trainX[i],cmap='gray')\n",
        "    plt.title(label(trainY[i]))\n",
        "\n",
        "    display.clear_output(wait=True)\n",
        "    display.display(pl.gcf())\n",
        "    time.sleep(3.0)    \n",
        "\n",
        "print(trainX[0])"
      ],
      "execution_count": 0,
      "outputs": [
        {
          "output_type": "display_data",
          "data": {
            "image/png": "[encoded data removed]",
            "text/plain": [
              "<Figure size 432x288 with 1 Axes>"
            ]
          },
          "metadata": {
            "tags": []
          }
        },
        {
          "output_type": "stream",
          "text": [
            "[[  0   0   0   0   0   0   0   0   0   0   0   0   0   0   0   0   0   0\n",
            "    0   0   0   0   0   0   0   0   0   0]\n",
            " [  0   0   0   0   0   0   0   0   0   0   0   0   0   0   0   0   0   0\n",
            "    0   0   0   0   0   0   0   0   0   0]\n",
            " [  0   0   0   0   0   0   0   0   0   0   0   0   0   0   0   0   0   0\n",
            "    0   0   0   0   0   0   0   0   0   0]\n",
            " [  0   0   0   0   0   0   0   0   0   0   0   0   1   0   0  13  73   0\n",
            "    0   1   4   0   0   0   0   1   1   0]\n",
            " [  0   0   0   0   0   0   0   0   0   0   0   0   3   0  36 136 127  62\n",
            "   54   0   0   0   1   3   4   0   0   3]\n",
            " [  0   0   0   0   0   0   0   0   0   0   0   0   6   0 102 204 176 134\n",
            "  144 123  23   0   0   0   0  12  10   0]\n",
            " [  0   0   0   0   0   0   0   0   0   0   0   0   0   0 155 236 207 178\n",
            "  107 156 161 109  64  23  77 130  72  15]\n",
            " [  0   0   0   0   0   0   0   0   0   0   0   1   0  69 207 223 218 216\n",
            "  216 163 127 121 122 146 141  88 172  66]\n",
            " [  0   0   0   0   0   0   0   0   0   1   1   1   0 200 232 232 233 229\n",
            "  223 223 215 213 164 127 123 196 229   0]\n",
            " [  0   0   0   0   0   0   0   0   0   0   0   0   0 183 225 216 223 228\n",
            "  235 227 224 222 224 221 223 245 173   0]\n",
            " [  0   0   0   0   0   0   0   0   0   0   0   0   0 193 228 218 213 198\n",
            "  180 212 210 211 213 223 220 243 202   0]\n",
            " [  0   0   0   0   0   0   0   0   0   1   3   0  12 219 220 212 218 192\n",
            "  169 227 208 218 224 212 226 197 209  52]\n",
            " [  0   0   0   0   0   0   0   0   0   0   6   0  99 244 222 220 218 203\n",
            "  198 221 215 213 222 220 245 119 167  56]\n",
            " [  0   0   0   0   0   0   0   0   0   4   0   0  55 236 228 230 228 240\n",
            "  232 213 218 223 234 217 217 209  92   0]\n",
            " [  0   0   1   4   6   7   2   0   0   0   0   0 237 226 217 223 222 219\n",
            "  222 221 216 223 229 215 218 255  77   0]\n",
            " [  0   3   0   0   0   0   0   0   0  62 145 204 228 207 213 221 218 208\n",
            "  211 218 224 223 219 215 224 244 159   0]\n",
            " [  0   0   0   0  18  44  82 107 189 228 220 222 217 226 200 205 211 230\n",
            "  224 234 176 188 250 248 233 238 215   0]\n",
            " [  0  57 187 208 224 221 224 208 204 214 208 209 200 159 245 193 206 223\n",
            "  255 255 221 234 221 211 220 232 246   0]\n",
            " [  3 202 228 224 221 211 211 214 205 205 205 220 240  80 150 255 229 221\n",
            "  188 154 191 210 204 209 222 228 225   0]\n",
            " [ 98 233 198 210 222 229 229 234 249 220 194 215 217 241  65  73 106 117\n",
            "  168 219 221 215 217 223 223 224 229  29]\n",
            " [ 75 204 212 204 193 205 211 225 216 185 197 206 198 213 240 195 227 245\n",
            "  239 223 218 212 209 222 220 221 230  67]\n",
            " [ 48 203 183 194 213 197 185 190 194 192 202 214 219 221 220 236 225 216\n",
            "  199 206 186 181 177 172 181 205 206 115]\n",
            " [  0 122 219 193 179 171 183 196 204 210 213 207 211 210 200 196 194 191\n",
            "  195 191 198 192 176 156 167 177 210  92]\n",
            " [  0   0  74 189 212 191 175 172 175 181 185 188 189 188 193 198 204 209\n",
            "  210 210 211 188 188 194 192 216 170   0]\n",
            " [  2   0   0   0  66 200 222 237 239 242 246 243 244 221 220 193 191 179\n",
            "  182 182 181 176 166 168  99  58   0   0]\n",
            " [  0   0   0   0   0   0   0  40  61  44  72  41  35   0   0   0   0   0\n",
            "    0   0   0   0   0   0   0   0   0   0]\n",
            " [  0   0   0   0   0   0   0   0   0   0   0   0   0   0   0   0   0   0\n",
            "    0   0   0   0   0   0   0   0   0   0]\n",
            " [  0   0   0   0   0   0   0   0   0   0   0   0   0   0   0   0   0   0\n",
            "    0   0   0   0   0   0   0   0   0   0]]\n"
          ],
          "name": "stdout"
        },
        {
          "output_type": "display_data",
          "data": {
            "image/png": "[encoded data removed]",
            "text/plain": [
              "<Figure size 432x288 with 1 Axes>"
            ]
          },
          "metadata": {
            "tags": []
          }
        }
      ]
    },
    {
      "cell_type": "markdown",
      "metadata": {
        "id": "UqmKGrmYowmd",
        "colab_type": "text"
      },
      "source": [
        "Visualize the data at the original scale"
      ]
    },
    {
      "cell_type": "code",
      "metadata": {
        "id": "nFoFQUiXowmj",
        "colab_type": "code",
        "colab": {},
        "outputId": "491f7b20-7087-494b-b5b8-c5b7feadb18b"
      },
      "source": [
        "import matplotlib.pyplot as plt\n",
        "import numpy as np\n",
        "\n",
        "dpi = 28\n",
        "margin = 0.05 # (5% of the width/height of the figure...)\n",
        "xpixels, ypixels = 28, 28\n",
        "\n",
        "# Make a figure big enough to accomodate an axis of xpixels by ypixels\n",
        "# as well as the ticklabels, etc...\n",
        "figsize = (1 + margin) * ypixels / dpi, (1 + margin) * xpixels / dpi\n",
        "\n",
        "for i in range(num_images_to_viz):\n",
        "    fig = plt.figure(figsize=figsize, dpi=dpi)\n",
        "    print(label(trainY[i]))   \n",
        "            \n",
        "    # Make the axis the right size...\n",
        "    ax = fig.add_axes([margin, margin, 1 - 2*margin, 1 - 2*margin])\n",
        "\n",
        "    ax.imshow(trainX[i],cmap='gray', interpolation='none')\n",
        "    #fig.suptitle(label(trainY[i]),fontsize=16,pad=10)\n",
        "    plt.show()\n",
        "\n",
        "    display.display(pl.gcf())\n",
        "    time.sleep(3.0)\n",
        "    display.clear_output(wait=True)"
      ],
      "execution_count": 0,
      "outputs": [
        {
          "output_type": "display_data",
          "data": {
            "text/plain": [
              "<Figure size 432x288 with 0 Axes>"
            ]
          },
          "metadata": {
            "tags": []
          }
        }
      ]
    },
    {
      "cell_type": "markdown",
      "metadata": {
        "id": "hWFJL1llowms",
        "colab_type": "text"
      },
      "source": [
        "# Perceptrons : Intuitive Way in which we make decisions\n",
        "\n",
        "For every yes / no decision\n",
        "We have certain factors that we consider\n",
        "We assign a certain importance to those factors\n",
        "Finally if the weighted importance is greater than some imaginary threshold, we go ahead with the decision\n",
        "\n",
        "Life comes down to \n",
        "1. Identifying the important factors [unsupervised learning]\n",
        "2. Learning how to weigh them [supervised learning]\n",
        "3. Fine-tuning an intuitive threshold [supervised learning]\n",
        "\n",
        "Eg: Should I take up the job offer?\n",
        "Factors: \n",
        "    1. Does it pay well?\n",
        "    2. Do I have to commute long?\n",
        "    3. Do I have to work long hours?\n",
        "    4. Char log kuch kahenge?\n",
        "\n",
        "Weights:\n",
        "    1. Pay: 10\n",
        "    2. Commute: -12\n",
        "    3. Long Hours: -2\n",
        "    4. Char log: 5\n",
        "\n",
        "Threshold: 2\n",
        "\n",
        "Decision: Yes / No"
      ]
    },
    {
      "cell_type": "markdown",
      "metadata": {
        "id": "enB1rsDDowmx",
        "colab_type": "text"
      },
      "source": [
        "In the context of perceptrons, \n",
        "1. one can ask only yes / no questions [i.e. features]\n",
        "2. one can get only yes / no answers [i.e. decisions]\n",
        "3. Weights and biases can be any real number\n",
        "\n",
        "Although simplistic - a very powerful model\n",
        "\n",
        "One can create universal NAND gate. \n",
        "\n",
        "Essentially express *anything* that can be computed as a network of perceptrons.\n",
        "\n",
        "Note: The ability to express a computable function is not the same as the ability to learn it from data! *Nowhere close*\n"
      ]
    },
    {
      "cell_type": "markdown",
      "metadata": {
        "id": "P8rnBHcEowmz",
        "colab_type": "text"
      },
      "source": [
        "# Learning from mistakes #\n",
        "\n",
        " - The most reliable way in which humans learn\n",
        " - This is the same way in which we have devised machine learning algorithms to learn\n",
        " - Essentially take lots of training examples and make a lots of mistakes\n",
        " - With each mistake, take a small step (learning rate) towards the correct solution\n",
        " - Can you now see, why these algorithms require lots of compute?\n",
        "\n"
      ]
    },
    {
      "cell_type": "markdown",
      "metadata": {
        "id": "EF785bVWowm1",
        "colab_type": "text"
      },
      "source": [
        "# Problem with Perceptrons #\n",
        "\n",
        "1. They take binary input, produce binary ouput.\n",
        "Eg: Isn't it more intuitive to ask\n",
        "\n",
        "Should I take up the job offer?\n",
        "Factors: \n",
        "    1. *How much* does it pay well?\n",
        "    2. *How much* do I have to commute?\n",
        "    3. *How many* hours do I have to work>\n",
        "    4. Char log *kya* kahenge?\n",
        "\n",
        "Weights:\n",
        "    1. Pay: 10\n",
        "    2. Commute: -12\n",
        "    3. Work Hours: -2\n",
        "    4. Char log: 5\n",
        "\n",
        "Threshold: 2\n",
        "\n",
        "Decision: Maybe\n",
        "\n",
        "\n",
        "2. A small change in input may cause the ouput to flip from 0 to 1\n",
        "3. We *want* an algorithm that learns slowly - that doesn't jump to conclusions based upon the current training example."
      ]
    },
    {
      "cell_type": "markdown",
      "metadata": {
        "id": "nWTk0J_Bowm3",
        "colab_type": "text"
      },
      "source": [
        "# Sigmoid Neurons #\n",
        "\n",
        "Sigmoid Function: \n",
        "\\begin{align}\n",
        "\\sigma(x) &= \\frac{1}{1+e^{-x}} \\\\\n",
        "\\end{align}\n",
        "\n",
        "Derivative of the sigmoid function: \n",
        "\\begin{align}\n",
        "\\dfrac{d}{dx} \\sigma(x) &= \\dfrac{d}{dx} \\left[ \\dfrac{1}{1 + e^{-x}} \\right] \\\\\n",
        "&= \\dfrac{d}{dx} \\left( 1 + \\mathrm{e}^{-x} \\right)^{-1} \\\\\n",
        "&= -(1 + e^{-x})^{-2}(-e^{-x}) \\\\\n",
        "&= \\dfrac{e^{-x}}{\\left(1 + e^{-x}\\right)^2} \\\\\n",
        "&= \\dfrac{1}{1 + e^{-x}\\ } \\cdot \\dfrac{e^{-x}}{1 + e^{-x}}  \\\\\n",
        "&= \\dfrac{1}{1 + e^{-x}\\ } \\cdot \\dfrac{(1 + e^{-x}) - 1}{1 + e^{-x}}  \\\\\n",
        "&= \\dfrac{1}{1 + e^{-x}\\ } \\cdot \\left( \\dfrac{1 + e^{-x}}{1 + e^{-x}} - \\dfrac{1}{1 + e^{-x}} \\right) \\\\\n",
        "&= \\dfrac{1}{1 + e^{-x}\\ } \\cdot \\left( 1 - \\dfrac{1}{1 + e^{-x}} \\right) \\\\\n",
        "&= \\sigma(x) \\cdot (1 - \\sigma(x))\n",
        "\\end{align}\n",
        "\n"
      ]
    },
    {
      "cell_type": "code",
      "metadata": {
        "id": "AC3wgaruowm7",
        "colab_type": "code",
        "colab": {},
        "outputId": "5dfb2bbe-6966-4ae1-ca58-b6e31f4128a2"
      },
      "source": [
        "# Import matplotlib, numpy and math \n",
        "import matplotlib.pyplot as plt \n",
        "import numpy as np \n",
        "import math \n",
        "\n",
        "def sigmoid(x):\n",
        "    return 1/(1 + np.exp(-x)) \n",
        "\n",
        "x = np.linspace(-10, 10, 100) \n",
        "y = sigmoid(x)*(1-sigmoid(x))\n",
        "z = sigmoid(x)\n",
        "\n",
        "  \n",
        "plt.plot(x, z, label=\"sigmoid\") \n",
        "plt.plot(x, y, label=\"derivative\") \n",
        "plt.xlabel(\"x\") \n",
        "plt.ylabel(\"Sigmoid(X)\") \n",
        "plt.legend()\n",
        "\n",
        "#Note that both the sigmoid and its derivate vanish at the extremes\n",
        "#This fact will be extremely important later on when we encounter vanishing gradients\n",
        "#Neural networks stop learning due to this very reason\n",
        "#This is also why other activation functions like selu, relu, leaky relu, etc. have been invented\n",
        "\n",
        "plt.show() "
      ],
      "execution_count": 0,
      "outputs": [
        {
          "output_type": "display_data",
          "data": {
            "image/png": "[encoded data removed]",
            "text/plain": [
              "<Figure size 432x288 with 1 Axes>"
            ]
          },
          "metadata": {
            "tags": []
          }
        }
      ]
    },
    {
      "cell_type": "markdown",
      "metadata": {
        "id": "TzYhELXtownb",
        "colab_type": "text"
      },
      "source": [
        "# Neural Network Design #\n",
        "\n",
        "We want\n",
        "1. Some way of feeding in the input [28 x 28 pixels]\n",
        "2. Some way of checking the output [class label]\n",
        "3. Some way of quantifying the mistake made by the neural network.\n",
        "4. Some way of steering the network so that it may make fewer mistakes.\n"
      ]
    },
    {
      "cell_type": "markdown",
      "metadata": {
        "id": "SZ4_tVGLownn",
        "colab_type": "text"
      },
      "source": [
        "First we consider just the initialization of weights and biases"
      ]
    },
    {
      "cell_type": "code",
      "metadata": {
        "id": "_opJQxhPownp",
        "colab_type": "code",
        "colab": {}
      },
      "source": [
        "# Req 1: First we concentrate on feeding the input\n",
        "\n",
        "# Convert the 2D input to 1D\n",
        "def convert_to_1D(X):\n",
        "    return [ x.ravel()/256.0 for x in X ]\n",
        "    #Is the normalization needed?\n",
        "\n",
        "trainX_1D=convert_to_1D(trainX)\n",
        "testX_1D=convert_to_1D(testX)\n",
        "\n",
        "# Q1. Why is this conversion needed?\n",
        "# Q2. What if I were to find a way one random order. Then shuffle all the examples (both train + test) using this order?\n",
        "# Q3. What if I were to uses a random sequence for each training example?\n",
        "\n",
        "\n"
      ],
      "execution_count": 0,
      "outputs": []
    },
    {
      "cell_type": "code",
      "metadata": {
        "id": "uPNyq8Q2owns",
        "colab_type": "code",
        "colab": {}
      },
      "source": [
        "#Req 2: Now we convert each target output from a single valued label to a 1D array\n",
        "\n",
        "#Takes in a 1D array of targets and returns a 2D one-hot encoding\n",
        "def convert_to_one_hot_encoding(target_Y):\n",
        "    Target_Y=np.zeros((len(target_Y),len(labels)),dtype=np.float64)\n",
        "    for i in range(len(target_Y)):\n",
        "        Target_Y[i][target_Y[i]]=1\n",
        "    return Target_Y\n",
        "\n",
        "#Q1. Why is this needed?\n",
        "#Q2. Again, what if I were to randomize here?"
      ],
      "execution_count": 0,
      "outputs": []
    },
    {
      "cell_type": "code",
      "metadata": {
        "id": "aET215ONownx",
        "colab_type": "code",
        "colab": {}
      },
      "source": [
        "#Req 3: Quantify the mistake made by the neural network\n",
        "\n",
        "#Returns the mean squared error\n",
        "def mse(output_Y,target_Y):\n",
        "    assert len(output_Y)==len(target_Y)\n",
        "    #convert the target Y to 2D matrix\n",
        "    Target_Y=convert_to_one_hot_encoding(target_Y)\n",
        "    diff=np.subtract(Target_Y, output_Y)\n",
        "    mse=np.mean(diff**2,axis=0)\n",
        "    return 0.5*mse\n",
        "\n",
        "#Q1. Why this particular function?\n",
        "#Q2. What if we use just the difference between the output and the target?\n",
        "#Q3. What if we use error cube instead of error square? \n"
      ],
      "execution_count": 0,
      "outputs": []
    },
    {
      "cell_type": "markdown",
      "metadata": {
        "id": "_6bneyWrown4",
        "colab_type": "text"
      },
      "source": [
        "# Gradient Descent #\n",
        "Req 4: Some way of steering the network towards the correct ouput\n",
        "\n",
        "$y$ = $x_{1}^2$ + $x_{2}^2$ \n",
        "\n",
        "$y^\\prime$ = $(x_{1}+\\Delta x_{1})^2$ + $(x_{2}+\\Delta x_{2})^2$ \n",
        "\n",
        "$y^\\prime$ = $x_{1}^2$ + 2*$x_{1}$ * $\\Delta x_{1}$   + $\\Delta x_{1}^2$ +    $x_{2}^2$ + 2*$x_{2}$ * $\\Delta x_{2}$   + $\\Delta x_{2}^2$  \n",
        "\n",
        "$y^\\prime$ - $y$ =  2*$x_{1}$ * $\\Delta x_{1}$   + $\\Delta x_{1}^2$ +  2*$x_{2}$ * $\\Delta x_{2}$   + $\\Delta x_{2}^2$\n",
        "\n",
        "Now if $\\Delta x_1$ and $\\Delta x_2$ are small, say 0.0001; $\\Delta x_1^{2}$ and $\\Delta x_2^{2}$ become even smaller 0.00000001. They can be ignored (for now). [We will encounter techniques where we can't ignore this]\n",
        "\n",
        "\n",
        "$y^\\prime$ - $y$  = $ \\Delta y$ =  2*$x_{1}$ * $\\Delta x_{1}$ +  2*$x_{2}$ * $\\Delta x_{2}$  \n",
        "\n",
        "$\\frac {\\partial y}{\\partial x_{1}}$ =  2 * $x_{1}$\n",
        "\n",
        "$\\frac {\\partial y}{\\partial x_{2}}$ =  2 * $x_{2}$\n",
        "\n",
        "$ \\Delta y$ = [ 2*$x_{1}$  2*$x_{2}$] . [ $\\Delta x_{1}$ $\\Delta x_{2}$]\n",
        "\n",
        "If y was the cost function, then we would want y to always decrease \n",
        "Thus we would want $ \\Delta y$  to *always* be negative\n",
        "\n",
        "The question is how do we change $x_{1}$ (i.e. $\\Delta x_{1}$) and $x_{2}$ (i.e. $\\Delta x_{2}$) such that this *always* happens?\n",
        "\n",
        "What is $ \\Delta y$ if $\\Delta x_{1}$ = -2*$x_{1}$ and $\\Delta x_{2}$ = -2*$x_{2}$ ?\n",
        "\n",
        "$ \\Delta y$ = -2*$x_{1}$ * 2* *$x_{1}$ + -2*$x_{2}$ * 2* *$x_{2}$\n",
        "\n",
        "$ \\Delta y$ = -4*$x_{1}^{2}$ -4* *$x_{2}$\n",
        "\n",
        "$ \\Delta y$ = -4*($x_{1}^{2}$ + $x_{2}^{2}$) = -4 * positive term = negative term\n",
        "\n",
        "Thus by changing the variables in the direction of the gradient, we end up always decreasing the cost.\n",
        "\n",
        "Hence the name *Gradient Descent*\n"
      ]
    },
    {
      "cell_type": "code",
      "metadata": {
        "id": "sNvvLX58own5",
        "colab_type": "code",
        "colab": {},
        "outputId": "7545c26e-7c00-4148-9878-9ac62264a967"
      },
      "source": [
        "def f(x,y):\n",
        "    return x**2 + y**2\n",
        "\n",
        "\n",
        "def df_dx(x,y):\n",
        "    return 2*x \n",
        "\n",
        "\n",
        "def df_dy(x,y):\n",
        "    return 2*y\n",
        "\n",
        "x,y=-100,100\n",
        "delta_x,delta_y=1000,1000\n",
        "\n",
        "epsilon=0.005\n",
        "\n",
        "lr=.1\n",
        "\n",
        "itr_to_convergence=0\n",
        "while(abs(delta_x) > epsilon or abs(delta_y) > epsilon):\n",
        "    delta_x = -1*lr* df_dx(x,y)\n",
        "    delta_y = -1*lr* df_dy(x,y)\n",
        "    x = x - lr* df_dx(x,y)\n",
        "    y = y - lr* df_dy(x,y)\n",
        "    itr_to_convergence += 1\n",
        "    print(x,y,f(x,y))\n",
        "    \n",
        "print(\"Iterations to convergence:\", itr_to_convergence)\n",
        "\n",
        "#Q1. How does one know that one has converged? f(x) stops growing?\n",
        "#Q2. How does one tune the learning rate?\n",
        "#Q3. What happens if the learning rate is too low? \n",
        "#Q4. What happens if the learning rate is too high? \n",
        "#Q4. Is there a relationship between learning rate and epsilon?"
      ],
      "execution_count": 0,
      "outputs": [
        {
          "output_type": "stream",
          "text": [
            "-80.0 80.0 12800.0\n",
            "-64.0 64.0 8192.0\n",
            "-51.2 51.2 5242.880000000001\n",
            "-40.96 40.96 3355.4432\n",
            "-32.768 32.768 2147.483648\n",
            "-26.2144 26.2144 1374.38953472\n",
            "-20.97152 20.97152 879.6093022208001\n",
            "-16.777216000000003 16.777216000000003 562.9499534213122\n",
            "-13.421772800000003 13.421772800000003 360.28797018963985\n",
            "-10.737418240000002 10.737418240000002 230.58430092136948\n",
            "-8.589934592000002 8.589934592000002 147.57395258967648\n",
            "-6.871947673600002 6.871947673600002 94.44732965739296\n",
            "-5.497558138880001 5.497558138880001 60.44629098073149\n",
            "-4.398046511104001 4.398046511104001 38.685626227668145\n",
            "-3.5184372088832006 3.5184372088832006 24.758800785707614\n",
            "-2.8147497671065604 2.8147497671065604 15.845632502852872\n",
            "-2.251799813685248 2.251799813685248 10.141204801825836\n",
            "-1.8014398509481986 1.8014398509481986 6.490371073168536\n",
            "-1.4411518807585588 1.4411518807585588 4.153837486827863\n",
            "-1.152921504606847 1.152921504606847 2.658455991569832\n",
            "-0.9223372036854777 0.9223372036854777 1.7014118346046927\n",
            "-0.7378697629483821 0.7378697629483821 1.0889035741470032\n",
            "-0.5902958103587057 0.5902958103587057 0.6968982874540821\n",
            "-0.47223664828696454 0.47223664828696454 0.4460149039706125\n",
            "-0.37778931862957166 0.37778931862957166 0.28544953854119204\n",
            "-0.3022314549036573 0.3022314549036573 0.18268770466636292\n",
            "-0.24178516392292587 0.24178516392292587 0.11692013098647228\n",
            "-0.1934281311383407 0.1934281311383407 0.07482888383134226\n",
            "-0.15474250491067257 0.15474250491067257 0.04789048565205905\n",
            "-0.12379400392853805 0.12379400392853805 0.03064991081731779\n",
            "-0.09903520314283044 0.09903520314283044 0.019615942923083385\n",
            "-0.07922816251426436 0.07922816251426436 0.012554203470773368\n",
            "-0.06338253001141149 0.06338253001141149 0.008034690221294957\n",
            "-0.05070602400912919 0.05070602400912919 0.005142201741628772\n",
            "-0.04056481920730336 0.04056481920730336 0.0032910091146424146\n",
            "-0.032451855365842684 0.032451855365842684 0.002106245833371145\n",
            "-0.02596148429267415 0.02596148429267415 0.001347997333357533\n",
            "-0.02076918743413932 0.02076918743413932 0.0008627182933488212\n",
            "-0.016615349947311456 0.016615349947311456 0.0005521397077432456\n",
            "Iterations to convergence: 39\n"
          ],
          "name": "stdout"
        }
      ]
    },
    {
      "cell_type": "markdown",
      "metadata": {
        "id": "HwBtRV6xown-",
        "colab_type": "text"
      },
      "source": [
        "Thus if we can somehow successfully update all the weights and the biases of our neural network in the negative direction of the gradient vector, we will end up reducing the misclassification cost.\n",
        "\n",
        "** How do we change the weights and biases of the neural network? **\n",
        "\n",
        "For each change in each weight and each bias, we want to ensure that the total cost of misclassification across *all* the training examples is minimized.\n",
        "\n",
        "Mathematically we write this as,\n",
        "C(w,b) = $\\frac {1}{2n} \\sum_{x} (pred - y)^{2} $\n",
        "\n",
        "If x (i.e. the number of data points) in the training data set is very large, then computing this cost becomes very expensive.\n",
        "\n",
        "Hence we sample a small set of data points, compute the cost for these data points and consider this average to be equal to the total average\n"
      ]
    },
    {
      "cell_type": "code",
      "metadata": {
        "id": "qQ6XzaEXown_",
        "colab_type": "code",
        "colab": {},
        "outputId": "938739d6-75f6-42e4-9f0e-3fcbb5f3c5a4"
      },
      "source": [
        "import random\n",
        "array = random.sample(range(1,10000),1000)\n",
        "\n",
        "#Exact mean\n",
        "print(\"Exact Mean:\", np.mean(array))\n",
        "for mini_batch_size in 10, 50, 100, 500, 1000:\n",
        "    temp_array = random.sample( array, mini_batch_size)\n",
        "    print(\"Mini Batch Size:\", mini_batch_size,\" Mean:\", np.mean(temp_array), \"Diff from true mean: \", abs(np.mean(array)-np.mean(temp_array)))\n",
        "    \n",
        "print(\"------\") \n",
        "#over 1000 runs\n",
        "for mini_batch_size in 10, 50, 100, 500, 1000:\n",
        "    diff=[]\n",
        "    for trial in range(100):\n",
        "        temp_array = random.sample( array, mini_batch_size)\n",
        "        diff.append( abs(np.mean(array)-np.mean(temp_array)) )\n",
        "    print(\"Mini Batch Size:\", mini_batch_size,\" Avg Diff from true mean: \", np.mean(diff))\n",
        "    \n",
        "\n",
        "#Stochastic Gradient Descent Way\n",
        "#Epoch is one complete pass through the entire dataset\n",
        "#Note that this is different from sampling (without replacement)\n",
        "print(\"------\") \n",
        "num_epochs=100\n",
        "for mini_batch_size in 10, 50, 100, 500, 1000:\n",
        "    diff=[]\n",
        "    for epoch in range(num_epochs):\n",
        "        random.shuffle(array)\n",
        "        for mb in range(0,len(array),mini_batch_size):\n",
        "           mini_batch_mean=np.mean( array[mb:mb+mini_batch_size] )\n",
        "           diff.append( abs(np.mean(array)-mini_batch_mean)) \n",
        "    print(\"Mini Batch Size:\", mini_batch_size,\" Avg Diff from true mean: \", np.mean(diff))\n",
        "\n",
        "#Q1. What is the difference of increasing the number of epochs\n",
        "#Q2. How is epoch related to the mini_batch_size"
      ],
      "execution_count": 0,
      "outputs": [
        {
          "output_type": "stream",
          "text": [
            "Exact Mean: 4993.369\n",
            "Mini Batch Size: 10  Mean: 4062.3 Diff from true mean:  931.0689999999995\n",
            "Mini Batch Size: 50  Mean: 5399.2 Diff from true mean:  405.83100000000013\n",
            "Mini Batch Size: 100  Mean: 5152.34 Diff from true mean:  158.97100000000046\n",
            "Mini Batch Size: 500  Mean: 5032.972 Diff from true mean:  39.603000000000065\n",
            "Mini Batch Size: 1000  Mean: 4993.369 Diff from true mean:  0.0\n",
            "------\n",
            "Mini Batch Size: 10  Avg Diff from true mean:  824.1137200000003\n",
            "Mini Batch Size: 50  Avg Diff from true mean:  318.90022\n",
            "Mini Batch Size: 100  Avg Diff from true mean:  228.36948\n",
            "Mini Batch Size: 500  Avg Diff from true mean:  75.44414000000002\n",
            "Mini Batch Size: 1000  Avg Diff from true mean:  0.0\n",
            "------\n",
            "Mini Batch Size: 10  Avg Diff from true mean:  740.4062074\n",
            "Mini Batch Size: 50  Avg Diff from true mean:  326.930789\n",
            "Mini Batch Size: 100  Avg Diff from true mean:  228.929428\n",
            "Mini Batch Size: 500  Avg Diff from true mean:  71.39303999999998\n",
            "Mini Batch Size: 1000  Avg Diff from true mean:  0.0\n"
          ],
          "name": "stdout"
        }
      ]
    },
    {
      "cell_type": "code",
      "metadata": {
        "id": "f16Lp99dowoG",
        "colab_type": "code",
        "colab": {}
      },
      "source": [
        "#assumes Y1 is an array of probabilities\n",
        "#assumes Y2 is just the index\n",
        "def compute_classification_accuracy(Y1,Y2):\n",
        "    assert len(Y1) == len(Y2)\n",
        "    match=np.zeros(len(Y1))\n",
        "    for i in range(len(Y1)):\n",
        "        if np.argmax(Y1[i]) == Y2[i]:\n",
        "            match[i]=1\n",
        "    #print(\"Classification Accuracy:\",sum(match),\" / \",len(match))\n",
        "    return sum(match)/len(match)\n",
        "        "
      ],
      "execution_count": 0,
      "outputs": []
    },
    {
      "cell_type": "code",
      "metadata": {
        "id": "e3xO5oTsowoK",
        "colab_type": "code",
        "colab": {}
      },
      "source": [
        "from random import sample\n",
        "\n",
        "class NN(object):\n",
        "    def __init__(self, num_neurons_each_layer):\n",
        "        self.num_layers = len(num_neurons_each_layer)\n",
        "        self.neurons = num_neurons_each_layer\n",
        "        self.biases = []\n",
        "        for i in range(self.num_layers):\n",
        "            #By convention: 0th layer is input layer. It has no bias\n",
        "            if i==0:\n",
        "                self.biases.append([])\n",
        "                continue\n",
        "            else:\n",
        "                #initialize the baises to random normal distribution mean=0 std=1\n",
        "                self.biases.append(np.random.randn( self.neurons[i] ))\n",
        "                \n",
        "        self.weights=[]\n",
        "        for i in range(self.num_layers):\n",
        "            #By convention: 0th layer is input layer. It has no bias\n",
        "            if i==0:\n",
        "                self.weights.append([])\n",
        "                continue\n",
        "            else:\n",
        "                #weights connecting layer i-1 to layer i\n",
        "                #initialize the weights to random normal distribution mean=0 std=1\n",
        "                self.weights.append(np.random.normal(0, 1, (self.neurons[i-1], self.neurons[i])))\n",
        "        \n",
        "    \n",
        "    def feedforward(self, a):\n",
        "        for i in range(1,self.num_layers):\n",
        "            a=np.matmul(a,self.weights[i])+self.biases[i]\n",
        "            a=sigmoid(a)\n",
        "            #print(a)\n",
        "        return a\n",
        "    \n",
        "    def SGD(self, training_data, epochs=1, mini_batch_size=16, lr=3,test_data=None):\n",
        "        #For each epoch\n",
        "        for epoch in range(epochs):\n",
        "            #Randomly shuffle the training data\n",
        "            random.shuffle(training_data)\n",
        "            #Go through the training data one minibatch at a time\n",
        "            for j in range(0,len(training_data),mini_batch_size):\n",
        "                data = training_data[j:j+mini_batch_size]\n",
        "                outY=feedforward(data)\n",
        "            \n",
        "            #For the data find out the average training error\n",
        "            "
      ],
      "execution_count": 0,
      "outputs": []
    },
    {
      "cell_type": "code",
      "metadata": {
        "id": "RBLXo59yowoO",
        "colab_type": "code",
        "colab": {},
        "outputId": "d0ae9f39-be4b-4d58-fc98-ccefdcfaf575"
      },
      "source": [
        "#test out the accuracy of random initialization over 1000 trials\n",
        "trials=1\n",
        "acc=np.zeros(trials)\n",
        "for trial in range(trials):\n",
        "    n=NN([784,30,10])\n",
        "    outY=n.feedforward(trainX_1D)\n",
        "    acc[trial]=compute_classification_accuracy(outY,trainY)\n",
        "    print(mse(outY,trainY))\n",
        "print(\"Avg Train Acc:\",np.mean(acc), \"Std Train Acc:\", np.std(acc))"
      ],
      "execution_count": 0,
      "outputs": [
        {
          "output_type": "stream",
          "text": [
            "[[-0.02267259 -0.9543439  -0.99779469 ... -0.56590041 -0.97181877\n",
            "   0.01034487]\n",
            " [ 0.98632836 -0.9012304  -0.877951   ... -0.92342693 -0.99642137\n",
            "  -0.98722188]\n",
            " [ 0.96113385 -0.95293868 -0.99864923 ... -0.57867242 -0.98527423\n",
            "  -0.98780494]\n",
            " ...\n",
            " [-0.02753381 -0.97989879 -0.99850325 ... -0.8390182  -0.99174283\n",
            "  -0.99287756]\n",
            " [ 0.99914594 -0.93334709 -0.99431449 ... -0.98588418 -0.98755514\n",
            "  -0.98430501]\n",
            " [-0.00831667 -0.70055646 -0.99932844 ... -0.65552666 -0.98963497\n",
            "  -0.99957051]]\n",
            "[[5.14046273e-04 9.10772278e-01 9.95594244e-01 ... 3.20243279e-01\n",
            "  9.44431715e-01 1.07016343e-04]\n",
            " [9.72843644e-01 8.12216239e-01 7.70797951e-01 ... 8.52717293e-01\n",
            "  9.92855549e-01 9.74607038e-01]\n",
            " [9.23778276e-01 9.08092126e-01 9.97300286e-01 ... 3.34861769e-01\n",
            "  9.70765316e-01 9.75758607e-01]\n",
            " ...\n",
            " [7.58110900e-04 9.60201643e-01 9.97008750e-01 ... 7.03951534e-01\n",
            "  9.83553849e-01 9.85805850e-01]\n",
            " [9.98292616e-01 8.71136791e-01 9.88661299e-01 ... 9.71967621e-01\n",
            "  9.75265154e-01 9.68856359e-01]\n",
            " [6.91670635e-05 4.90779353e-01 9.98657326e-01 ... 4.29715203e-01\n",
            "  9.79377372e-01 9.99141205e-01]]\n",
            "mean [ 0.0569806  -0.75818601 -0.89184549 -0.32174014  0.00255619 -0.06738573\n",
            " -0.37043199 -0.53717612 -0.87394179 -0.87024957]\n",
            "mse [0.10178949 0.68119312 0.88576358 0.253323   0.12320446 0.08792755\n",
            " 0.37424012 0.47324355 0.85591125 0.84773331]\n",
            "[[2.57023136e-04 4.55386139e-01 4.97797122e-01 ... 1.60121639e-01\n",
            "  4.72215858e-01 5.35081715e-05]\n",
            " [4.86421822e-01 4.06108119e-01 3.85398976e-01 ... 4.26358647e-01\n",
            "  4.96427775e-01 4.87303519e-01]\n",
            " [4.61889138e-01 4.54046063e-01 4.98650143e-01 ... 1.67430884e-01\n",
            "  4.85382658e-01 4.87879303e-01]\n",
            " ...\n",
            " [3.79055450e-04 4.80100822e-01 4.98504375e-01 ... 3.51975767e-01\n",
            "  4.91776924e-01 4.92902925e-01]\n",
            " [4.99146308e-01 4.35568395e-01 4.94330650e-01 ... 4.85983811e-01\n",
            "  4.87632577e-01 4.84428179e-01]\n",
            " [3.45835318e-05 2.45389677e-01 4.99328663e-01 ... 2.14857602e-01\n",
            "  4.89688686e-01 4.99570603e-01]]\n",
            "Avg Train Acc: 0.10646666666666667 Std Train Acc: 0.0\n"
          ],
          "name": "stdout"
        }
      ]
    },
    {
      "cell_type": "code",
      "metadata": {
        "id": "2YGITgvwowoX",
        "colab_type": "code",
        "colab": {}
      },
      "source": [
        ""
      ],
      "execution_count": 0,
      "outputs": []
    },
    {
      "cell_type": "code",
      "metadata": {
        "id": "f5kpKsBNowoc",
        "colab_type": "code",
        "colab": {}
      },
      "source": [
        ""
      ],
      "execution_count": 0,
      "outputs": []
    }
  ]
}