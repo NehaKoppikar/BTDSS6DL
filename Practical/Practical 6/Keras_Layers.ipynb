{
  "nbformat": 4,
  "nbformat_minor": 0,
  "metadata": {
    "colab": {
      "name": "Keras-Layers.ipynb",
      "provenance": [],
      "private_outputs": true,
      "include_colab_link": true
    },
    "kernelspec": {
      "name": "python3",
      "display_name": "Python 3"
    }
  },
  "cells": [
    {
      "cell_type": "markdown",
      "metadata": {
        "id": "view-in-github",
        "colab_type": "text"
      },
      "source": [
        "<a href=\"https://colab.research.google.com/github/NehaKoppikar/BTDSS6DL/blob/master/Practical/Keras_Layers.ipynb\" target=\"_parent\"><img src=\"https://colab.research.google.com/assets/colab-badge.svg\" alt=\"Open In Colab\"/></a>"
      ]
    },
    {
      "cell_type": "markdown",
      "metadata": {
        "id": "-qGLrDE4pn8P",
        "colab_type": "text"
      },
      "source": [
        "#Keras layers\n",
        "\n",
        "The building blocks for neural network architectures"
      ]
    },
    {
      "cell_type": "markdown",
      "metadata": {
        "id": "RZHeMOJVp8Ui",
        "colab_type": "text"
      },
      "source": [
        "#Download dataset\n",
        "\n",
        "In this Keras tutorial, we are going to use the Pima Indians onset of diabetes dataset. This is a standard machine learning dataset from the UCI Machine Learning repository. It describes patient medical record data for Pima Indians and whether they had an onset of diabetes within five years.\n",
        "\n",
        "As such, it is a binary classification problem (onset of diabetes as 1 or not as 0). All of the input variables that describe each patient are numerical. This makes it easy to use directly with neural networks that expect numerical input and output values, and ideal for our first neural network in Keras."
      ]
    },
    {
      "cell_type": "code",
      "metadata": {
        "id": "oycfI2SLnukE",
        "colab_type": "code",
        "colab": {}
      },
      "source": [
        "!wget  http://upscfever.com/datasets/pima-indians-diabetes.data.csv  -P drive/app\n"
      ],
      "execution_count": 0,
      "outputs": []
    },
    {
      "cell_type": "markdown",
      "metadata": {
        "id": "kGUV1OVTqDZD",
        "colab_type": "text"
      },
      "source": [
        "#Load libraries\n",
        "\n",
        "We can now load the file as a matrix of numbers using the NumPy function loadtxt().\n",
        "\n",
        "There are eight input variables and one output variable (the last column). We will be learning a model to map rows of input variables (X) to an output variable (y), which we often summarize as y = f(X).\n",
        "\n",
        "The variables can be summarized as follows:\n",
        "\n",
        "Input Variables (X):\n",
        "\n",
        "1. Number of times pregnant\n",
        "2. Plasma glucose concentration a 2 hours in an oral glucose tolerance test\n",
        "3. Diastolic blood pressure (mm Hg)\n",
        "4. Triceps skin fold thickness (mm)\n",
        "5. 2-Hour serum insulin (mu U/ml)\n",
        "6. Body mass index (weight in kg/(height in m)^2)\n",
        "7. Diabetes pedigree function\n",
        "8. Age (years)\n",
        "\n",
        "Output Variables (y):\n",
        "\n",
        "Class variable (0 or 1)\n"
      ]
    },
    {
      "cell_type": "code",
      "metadata": {
        "id": "ShIacRG-pdej",
        "colab_type": "code",
        "colab": {}
      },
      "source": [
        "import pandas as pd\n",
        "import numpy as np\n",
        "from numpy import loadtxt\n",
        "import keras\n",
        "from keras.models import Sequential\n",
        "from keras.layers import Dense\n",
        "dataset = loadtxt('drive/app/pima-indians-diabetes.data.csv', delimiter=',')\n",
        "# split into input (X) and output (y) variables\n",
        "X = dataset[:,0:8]\n",
        "y = dataset[:,8]"
      ],
      "execution_count": 0,
      "outputs": []
    },
    {
      "cell_type": "markdown",
      "metadata": {
        "id": "1i0X9CY-qaaq",
        "colab_type": "text"
      },
      "source": [
        "#Define keras model\n",
        "\n",
        "##Dense layer\n",
        "\n",
        "```\n",
        "keras.layers.Dense(units, activation=None, use_bias=True, kernel_initializer='glorot_uniform', bias_initializer='zeros', kernel_regularizer=None, bias_regularizer=None, activity_regularizer=None, kernel_constraint=None, bias_constraint=None)\n",
        "```\n",
        "\n",
        "Just your regular densely-connected NN layer.\n",
        "\n",
        "Dense implements the operation: output = activation(dot(input, kernel) + bias) where activation is the element-wise activation function passed as the activation argument, kernel is a weights matrix created by the layer, and bias is a bias vector created by the layer (only applicable if use_bias is True).\n",
        "\n",
        "Note: if the input to the layer has a rank greater than 2, then it is flattened prior to the initial dot product with kernel.\n",
        "\n",
        "Arguments\n",
        "\n",
        "1. units: Positive integer, dimensionality of the output space.\n",
        "2. activation: Activation function to use (see activations). If you don't specify anything, no activation is applied (ie. \"linear\" activation: a(x) = x).\n",
        "3. use_bias: Boolean, whether the layer uses a bias vector.\n",
        "4. kernel_initializer: Initializer for the kernel weights matrix (see initializers).\n",
        "5. bias_initializer: Initializer for the bias vector (see initializers).\n",
        "6. kernel_regularizer: Regularizer function applied to the kernel weights matrix (see regularizer).\n",
        "7. bias_regularizer: Regularizer function applied to the bias vector (see regularizer).\n",
        "8. activity_regularizer: Regularizer function applied to the output of the layer (its \"activation\"). (see regularizer).\n",
        "9. kernel_constraint: Constraint function applied to the kernel weights matrix (see constraints).\n",
        "10. bias_constraint: Constraint function applied to the bias vector (see constraints)."
      ]
    },
    {
      "cell_type": "code",
      "metadata": {
        "id": "IoFq8ywRqceh",
        "colab_type": "code",
        "colab": {}
      },
      "source": [
        "# define the keras model\n",
        "model = Sequential()\n",
        "model.add(Dense(units=12, input_dim=8, activation='relu', use_bias=True, kernel_initializer='glorot_uniform', bias_initializer='zeros', kernel_regularizer=keras.regularizers.l1_l2(l1=0.01, l2=0.01), bias_regularizer=keras.regularizers.l1_l2(l1=0.01, l2=0.01), activity_regularizer=keras.regularizers.l1_l2(l1=0.01, l2=0.01), kernel_constraint=keras.constraints.MinMaxNorm(min_value=0.0, max_value=1.0, rate=1.0, axis=0), bias_constraint=keras.constraints.MinMaxNorm(min_value=0.0, max_value=1.0, rate=1.0, axis=0)))\n",
        "model.add(Dense(units=8, activation='relu', use_bias=True, kernel_initializer='glorot_uniform', bias_initializer='zeros', kernel_regularizer=keras.regularizers.l1_l2(l1=0.01, l2=0.01), bias_regularizer=keras.regularizers.l1_l2(l1=0.01, l2=0.01), activity_regularizer=keras.regularizers.l1_l2(l1=0.01, l2=0.01), kernel_constraint=keras.constraints.MinMaxNorm(min_value=0.0, max_value=1.0, rate=1.0, axis=0), bias_constraint=keras.constraints.MinMaxNorm(min_value=0.0, max_value=1.0, rate=1.0, axis=0)))\n",
        "model.add(Dense(units=1, activation='sigmoid', kernel_initializer='glorot_uniform', bias_initializer='zeros', kernel_regularizer=keras.regularizers.l1_l2(l1=0.01, l2=0.01), bias_regularizer=keras.regularizers.l1_l2(l1=0.01, l2=0.01), activity_regularizer=keras.regularizers.l1_l2(l1=0.01, l2=0.01), kernel_constraint=keras.constraints.MinMaxNorm(min_value=0.0, max_value=1.0, rate=1.0, axis=0), bias_constraint=keras.constraints.MinMaxNorm(min_value=0.0, max_value=1.0, rate=1.0, axis=0)))"
      ],
      "execution_count": 0,
      "outputs": []
    },
    {
      "cell_type": "markdown",
      "metadata": {
        "id": "fu_8Z0x6sbE3",
        "colab_type": "text"
      },
      "source": [
        "#Dense layers\n",
        "\n",
        "Above code:\n",
        "\n",
        "1. The model expects rows of data with 8 variables (the input_dim=8 argument)\n",
        "2. The first hidden layer has 12 nodes and uses the relu activation function.\n",
        "3. The second hidden layer has 8 nodes and uses the relu activation function.\n",
        "4. The output layer has one node and uses the sigmoid activation function."
      ]
    },
    {
      "cell_type": "markdown",
      "metadata": {
        "id": "SL4gN-VMqzTk",
        "colab_type": "text"
      },
      "source": [
        "#Model compile"
      ]
    },
    {
      "cell_type": "code",
      "metadata": {
        "id": "FRWDG3XMtKMA",
        "colab_type": "code",
        "colab": {}
      },
      "source": [
        "# compile the keras model\n",
        "model.compile(loss='binary_crossentropy', optimizer='adam', metrics=['accuracy'])"
      ],
      "execution_count": 0,
      "outputs": []
    },
    {
      "cell_type": "markdown",
      "metadata": {
        "id": "cvCMp556tNZw",
        "colab_type": "text"
      },
      "source": [
        "#Fit Keras Model"
      ]
    },
    {
      "cell_type": "code",
      "metadata": {
        "id": "BnvfSSNktSIR",
        "colab_type": "code",
        "colab": {}
      },
      "source": [
        "# fit the keras model on the dataset\n",
        "model.fit(X, y, epochs=150, batch_size=10)"
      ],
      "execution_count": 0,
      "outputs": []
    },
    {
      "cell_type": "markdown",
      "metadata": {
        "id": "H6UWquZa1GnB",
        "colab_type": "text"
      },
      "source": [
        "### Output\n",
        "\n",
        "768/768 [==============================] - 1s 1ms/step - loss: 3240.4287 - acc: 0.5286\n",
        "Epoch 2/150\n",
        "768/768 [==============================] - 0s 148us/step - loss: 1767.2762 - acc: 0.5846\n",
        "Epoch 3/150\n",
        "768/768 [==============================] - 0s 147us/step - loss: 991.7811 - acc: 0.5768\n",
        "Epoch 4/150\n",
        "768/768 [==============================] - 0s 171us/step - loss: 559.5112 - acc: 0.5677\n",
        "Epoch 5/150\n",
        "768/768 [==============================] - 0s 158us/step - loss: 321.3793 - acc: 0.5065\n",
        "Epoch 6/150\n",
        "768/768 [==============================] - 0s 153us/step - loss: 191.1669 - acc: 0.5365\n",
        "Epoch 7/150\n",
        "768/768 [==============================] - 0s 148us/step - loss: 117.3945 - acc: 0.6003\n",
        "Epoch 8/150\n",
        "768/768 [==============================] - 0s 146us/step - loss: 76.9383 - acc: 0.6341\n",
        "Epoch 9/150\n",
        "768/768 [==============================] - 0s 147us/step - loss: 53.3541 - acc: 0.6458\n",
        "Epoch 10/150\n",
        "768/768 [==============================] - 0s 158us/step - loss: 38.3719 - acc: 0.6510\n",
        "Epoch 11/150\n",
        "768/768 [==============================] - 0s 154us/step - loss: 28.4308 - acc: 0.6536\n",
        "Epoch 12/150\n",
        "768/768 [==============================] - 0s 153us/step - loss: 21.5013 - acc: 0.6563\n",
        "Epoch 13/150\n",
        "768/768 [==============================] - 0s 159us/step - loss: 16.6665 - acc: 0.6549\n",
        "Epoch 14/150\n",
        "768/768 [==============================] - 0s 155us/step - loss: 13.0187 - acc: 0.6523\n",
        "Epoch 15/150\n",
        "768/768 [==============================] - 0s 153us/step - loss: 10.3190 - acc: 0.6523\n",
        "Epoch 16/150\n",
        "768/768 [==============================] - 0s 147us/step - loss: 8.4293 - acc: 0.6549\n",
        "Epoch 17/150\n",
        "768/768 [==============================] - 0s 146us/step - loss: 6.9782 - acc: 0.6523\n",
        "Epoch 18/150\n",
        "768/768 [==============================] - 0s 150us/step - loss: 5.8747 - acc: 0.6523\n",
        "Epoch 19/150\n",
        "768/768 [==============================] - 0s 156us/step - loss: 5.0702 - acc: 0.6510\n",
        "Epoch 20/150\n",
        "768/768 [==============================] - 0s 157us/step - loss: 4.4807 - acc: 0.6523\n",
        "Epoch 21/150\n",
        "768/768 [==============================] - 0s 155us/step - loss: 3.9596 - acc: 0.6523\n",
        "Epoch 22/150\n",
        "768/768 [==============================] - 0s 170us/step - loss: 3.5559 - acc: 0.6536\n",
        "Epoch 23/150\n",
        "768/768 [==============================] - 0s 155us/step - loss: 3.2394 - acc: 0.6523\n",
        "Epoch 24/150\n",
        "768/768 [==============================] - 0s 147us/step - loss: 2.9580 - acc: 0.6510\n",
        "Epoch 25/150\n",
        "768/768 [==============================] - 0s 150us/step - loss: 2.7272 - acc: 0.6523\n",
        "Epoch 26/150\n",
        "768/768 [==============================] - 0s 145us/step - loss: 2.5275 - acc: 0.6523\n",
        "Epoch 27/150\n",
        "768/768 [==============================] - 0s 150us/step - loss: 2.3556 - acc: 0.6523\n",
        "Epoch 28/150\n",
        "768/768 [==============================] - 0s 159us/step - loss: 2.2135 - acc: 0.6523\n",
        "Epoch 29/150\n",
        "768/768 [==============================] - 0s 152us/step - loss: 2.0779 - acc: 0.6510\n",
        "Epoch 30/150\n",
        "768/768 [==============================] - 0s 152us/step - loss: 1.9590 - acc: 0.6510\n",
        "Epoch 31/150\n",
        "768/768 [==============================] - 0s 155us/step - loss: 1.8624 - acc: 0.6497\n",
        "Epoch 32/150\n",
        "768/768 [==============================] - 0s 154us/step - loss: 1.7787 - acc: 0.6497\n",
        "Epoch 33/150\n",
        "768/768 [==============================] - 0s 145us/step - loss: 1.7004 - acc: 0.6497\n",
        "Epoch 34/150\n",
        "768/768 [==============================] - 0s 151us/step - loss: 1.6293 - acc: 0.6510\n",
        "Epoch 35/150\n",
        "768/768 [==============================] - 0s 149us/step - loss: 1.5700 - acc: 0.6523\n",
        "Epoch 36/150\n",
        "768/768 [==============================] - 0s 149us/step - loss: 1.5131 - acc: 0.6523\n",
        "Epoch 37/150\n",
        "768/768 [==============================] - 0s 157us/step - loss: 1.4648 - acc: 0.6523\n",
        "Epoch 38/150\n",
        "768/768 [==============================] - 0s 151us/step - loss: 1.4221 - acc: 0.6523\n",
        "Epoch 39/150\n",
        "768/768 [==============================] - 0s 172us/step - loss: 1.3824 - acc: 0.6523\n",
        "Epoch 40/150\n",
        "768/768 [==============================] - 0s 169us/step - loss: 1.3490 - acc: 0.6510\n",
        "Epoch 41/150\n",
        "768/768 [==============================] - 0s 153us/step - loss: 1.3185 - acc: 0.6510\n",
        "Epoch 42/150\n",
        "768/768 [==============================] - 0s 146us/step - loss: 1.2931 - acc: 0.6510\n",
        "Epoch 43/150\n",
        "768/768 [==============================] - 0s 152us/step - loss: 1.2702 - acc: 0.6510\n",
        "Epoch 44/150\n",
        "768/768 [==============================] - 0s 161us/step - loss: 1.2507 - acc: 0.6510\n",
        "Epoch 45/150\n",
        "768/768 [==============================] - 0s 151us/step - loss: 1.2333 - acc: 0.6510\n",
        "Epoch 46/150\n",
        "768/768 [==============================] - 0s 156us/step - loss: 1.2178 - acc: 0.6510\n",
        "Epoch 47/150\n",
        "768/768 [==============================] - 0s 146us/step - loss: 1.2038 - acc: 0.6510\n",
        "Epoch 48/150\n",
        "768/768 [==============================] - 0s 150us/step - loss: 1.1913 - acc: 0.6510\n",
        "Epoch 49/150\n",
        "768/768 [==============================] - 0s 154us/step - loss: 1.1802 - acc: 0.6510\n",
        "Epoch 50/150\n",
        "768/768 [==============================] - 0s 135us/step - loss: 1.1699 - acc: 0.6510\n",
        "Epoch 51/150\n",
        "768/768 [==============================] - 0s 148us/step - loss: 1.1603 - acc: 0.6510\n",
        "Epoch 52/150\n",
        "768/768 [==============================] - 0s 149us/step - loss: 1.1516 - acc: 0.6510\n",
        "Epoch 53/150\n",
        "768/768 [==============================] - 0s 152us/step - loss: 1.1444 - acc: 0.6510\n",
        "Epoch 54/150\n",
        "768/768 [==============================] - 0s 150us/step - loss: 1.1374 - acc: 0.6510\n",
        "Epoch 55/150\n",
        "768/768 [==============================] - 0s 154us/step - loss: 1.1302 - acc: 0.6510\n",
        "Epoch 56/150\n",
        "768/768 [==============================] - 0s 152us/step - loss: 1.1236 - acc: 0.6510\n",
        "Epoch 57/150\n",
        "768/768 [==============================] - 0s 156us/step - loss: 1.1184 - acc: 0.6510\n",
        "Epoch 58/150\n",
        "768/768 [==============================] - 0s 150us/step - loss: 1.1130 - acc: 0.6510\n",
        "Epoch 59/150\n",
        "768/768 [==============================] - 0s 161us/step - loss: 1.1077 - acc: 0.6510\n",
        "Epoch 60/150\n",
        "768/768 [==============================] - 0s 155us/step - loss: 1.1029 - acc: 0.6510\n",
        "Epoch 61/150\n",
        "768/768 [==============================] - 0s 157us/step - loss: 1.0984 - acc: 0.6510\n",
        "Epoch 62/150\n",
        "768/768 [==============================] - 0s 162us/step - loss: 1.0941 - acc: 0.6510\n",
        "Epoch 63/150\n",
        "768/768 [==============================] - 0s 162us/step - loss: 1.0902 - acc: 0.6510\n",
        "Epoch 64/150\n",
        "768/768 [==============================] - 0s 150us/step - loss: 1.0865 - acc: 0.6510\n",
        "Epoch 65/150\n",
        "768/768 [==============================] - 0s 152us/step - loss: 1.0830 - acc: 0.6510\n",
        "Epoch 66/150\n",
        "768/768 [==============================] - 0s 159us/step - loss: 1.0797 - acc: 0.6510\n",
        "Epoch 67/150\n",
        "768/768 [==============================] - 0s 155us/step - loss: 1.0767 - acc: 0.6510\n",
        "Epoch 68/150\n",
        "768/768 [==============================] - 0s 153us/step - loss: 1.0740 - acc: 0.6510\n",
        "Epoch 69/150\n",
        "768/768 [==============================] - 0s 150us/step - loss: 1.0714 - acc: 0.6510\n",
        "Epoch 70/150\n",
        "768/768 [==============================] - 0s 152us/step - loss: 1.0686 - acc: 0.6510\n",
        "Epoch 71/150\n",
        "768/768 [==============================] - 0s 155us/step - loss: 1.0662 - acc: 0.6510\n",
        "Epoch 72/150\n",
        "768/768 [==============================] - 0s 150us/step - loss: 1.0635 - acc: 0.6510\n",
        "Epoch 73/150\n",
        "768/768 [==============================] - 0s 146us/step - loss: 1.0621 - acc: 0.6510\n",
        "Epoch 74/150\n",
        "768/768 [==============================] - 0s 149us/step - loss: 1.0623 - acc: 0.6510\n",
        "Epoch 75/150\n",
        "768/768 [==============================] - 0s 150us/step - loss: 1.0587 - acc: 0.6510\n",
        "Epoch 76/150\n",
        "768/768 [==============================] - 0s 156us/step - loss: 1.0555 - acc: 0.6510\n",
        "Epoch 77/150\n",
        "768/768 [==============================] - 0s 150us/step - loss: 1.0525 - acc: 0.6510\n",
        "Epoch 78/150\n",
        "768/768 [==============================] - 0s 142us/step - loss: 1.0499 - acc: 0.6510\n",
        "Epoch 79/150\n",
        "768/768 [==============================] - 0s 131us/step - loss: 1.0472 - acc: 0.6510\n",
        "Epoch 80/150\n",
        "768/768 [==============================] - 0s 132us/step - loss: 1.0448 - acc: 0.6510\n",
        "Epoch 81/150\n",
        "768/768 [==============================] - 0s 148us/step - loss: 1.0421 - acc: 0.6510\n",
        "Epoch 82/150\n",
        "768/768 [==============================] - 0s 132us/step - loss: 1.0406 - acc: 0.6510\n",
        "Epoch 83/150\n",
        "768/768 [==============================] - 0s 153us/step - loss: 1.0377 - acc: 0.6510\n",
        "Epoch 84/150\n",
        "768/768 [==============================] - 0s 155us/step - loss: 1.0351 - acc: 0.6510\n",
        "Epoch 85/150\n",
        "768/768 [==============================] - 0s 143us/step - loss: 1.0336 - acc: 0.6510\n",
        "Epoch 86/150\n",
        "768/768 [==============================] - 0s 138us/step - loss: 1.0315 - acc: 0.6510\n",
        "Epoch 87/150\n",
        "768/768 [==============================] - 0s 140us/step - loss: 1.0289 - acc: 0.6510\n",
        "Epoch 88/150\n",
        "768/768 [==============================] - 0s 163us/step - loss: 1.0262 - acc: 0.6510\n",
        "Epoch 89/150\n",
        "768/768 [==============================] - 0s 155us/step - loss: 1.0234 - acc: 0.6510\n",
        "Epoch 90/150\n",
        "768/768 [==============================] - 0s 153us/step - loss: 1.0209 - acc: 0.6510\n",
        "Epoch 91/150\n",
        "768/768 [==============================] - 0s 150us/step - loss: 1.0183 - acc: 0.6510\n",
        "Epoch 92/150\n",
        "768/768 [==============================] - 0s 147us/step - loss: 1.0163 - acc: 0.6510\n",
        "Epoch 93/150\n",
        "768/768 [==============================] - 0s 157us/step - loss: 1.0134 - acc: 0.6510\n",
        "Epoch 94/150\n",
        "768/768 [==============================] - 0s 159us/step - loss: 1.0109 - acc: 0.6510\n",
        "Epoch 95/150\n",
        "768/768 [==============================] - 0s 149us/step - loss: 1.0080 - acc: 0.6510\n",
        "Epoch 96/150\n",
        "768/768 [==============================] - 0s 162us/step - loss: 1.0053 - acc: 0.6510\n",
        "Epoch 97/150\n",
        "768/768 [==============================] - 0s 151us/step - loss: 1.0037 - acc: 0.6510\n",
        "Epoch 98/150\n",
        "768/768 [==============================] - 0s 147us/step - loss: 1.0005 - acc: 0.6510\n",
        "Epoch 99/150\n",
        "768/768 [==============================] - 0s 156us/step - loss: 0.9976 - acc: 0.6510\n",
        "Epoch 100/150\n",
        "768/768 [==============================] - 0s 149us/step - loss: 0.9944 - acc: 0.6510\n",
        "Epoch 101/150\n",
        "768/768 [==============================] - 0s 155us/step - loss: 0.9913 - acc: 0.6510\n",
        "Epoch 102/150\n",
        "768/768 [==============================] - 0s 152us/step - loss: 0.9883 - acc: 0.6510\n",
        "Epoch 103/150\n",
        "768/768 [==============================] - 0s 152us/step - loss: 0.9852 - acc: 0.6510\n",
        "Epoch 104/150\n",
        "768/768 [==============================] - 0s 148us/step - loss: 0.9822 - acc: 0.6510\n",
        "Epoch 105/150\n",
        "768/768 [==============================] - 0s 146us/step - loss: 0.9797 - acc: 0.6510\n",
        "Epoch 106/150\n",
        "768/768 [==============================] - 0s 155us/step - loss: 0.9777 - acc: 0.6510\n",
        "Epoch 107/150\n",
        "768/768 [==============================] - 0s 151us/step - loss: 0.9742 - acc: 0.6510\n",
        "Epoch 108/150\n",
        "768/768 [==============================] - 0s 152us/step - loss: 0.9722 - acc: 0.6510\n",
        "Epoch 109/150\n",
        "768/768 [==============================] - 0s 155us/step - loss: 0.9686 - acc: 0.6510\n",
        "Epoch 110/150\n",
        "768/768 [==============================] - 0s 149us/step - loss: 0.9649 - acc: 0.6510\n",
        "Epoch 111/150\n",
        "768/768 [==============================] - 0s 147us/step - loss: 0.9615 - acc: 0.6510\n",
        "Epoch 112/150\n",
        "768/768 [==============================] - 0s 171us/step - loss: 0.9583 - acc: 0.6510\n",
        "Epoch 113/150\n",
        "768/768 [==============================] - 0s 153us/step - loss: 0.9562 - acc: 0.6510\n",
        "Epoch 114/150\n",
        "768/768 [==============================] - 0s 153us/step - loss: 0.9527 - acc: 0.6510\n",
        "Epoch 115/150\n",
        "768/768 [==============================] - 0s 145us/step - loss: 0.9493 - acc: 0.6510\n",
        "Epoch 116/150\n",
        "768/768 [==============================] - 0s 140us/step - loss: 0.9460 - acc: 0.6510\n",
        "Epoch 117/150\n",
        "768/768 [==============================] - 0s 147us/step - loss: 0.9429 - acc: 0.6510\n",
        "Epoch 118/150\n",
        "768/768 [==============================] - 0s 154us/step - loss: 0.9402 - acc: 0.6510\n",
        "Epoch 119/150\n",
        "768/768 [==============================] - 0s 156us/step - loss: 0.9375 - acc: 0.6510\n",
        "Epoch 120/150\n",
        "768/768 [==============================] - 0s 154us/step - loss: 0.9342 - acc: 0.6510\n",
        "Epoch 121/150\n",
        "768/768 [==============================] - 0s 153us/step - loss: 0.9307 - acc: 0.6510\n",
        "Epoch 122/150\n",
        "768/768 [==============================] - 0s 149us/step - loss: 0.9274 - acc: 0.6510\n",
        "Epoch 123/150\n",
        "768/768 [==============================] - 0s 140us/step - loss: 0.9240 - acc: 0.6510\n",
        "Epoch 124/150\n",
        "768/768 [==============================] - 0s 152us/step - loss: 0.9207 - acc: 0.6510\n",
        "Epoch 125/150\n",
        "768/768 [==============================] - 0s 145us/step - loss: 0.9174 - acc: 0.6510\n",
        "Epoch 126/150\n",
        "768/768 [==============================] - 0s 150us/step - loss: 0.9144 - acc: 0.6510\n",
        "Epoch 127/150\n",
        "768/768 [==============================] - 0s 161us/step - loss: 0.9121 - acc: 0.6510\n",
        "Epoch 128/150\n",
        "768/768 [==============================] - 0s 145us/step - loss: 0.9084 - acc: 0.6510\n",
        "Epoch 129/150\n",
        "768/768 [==============================] - 0s 150us/step - loss: 0.9048 - acc: 0.6510\n",
        "Epoch 130/150\n",
        "768/768 [==============================] - 0s 145us/step - loss: 0.9013 - acc: 0.6510\n",
        "Epoch 131/150\n",
        "768/768 [==============================] - 0s 155us/step - loss: 0.8978 - acc: 0.6510\n",
        "Epoch 132/150\n",
        "768/768 [==============================] - 0s 156us/step - loss: 0.8943 - acc: 0.6510\n",
        "Epoch 133/150\n",
        "768/768 [==============================] - 0s 150us/step - loss: 0.8910 - acc: 0.6510\n",
        "Epoch 134/150\n",
        "768/768 [==============================] - 0s 145us/step - loss: 0.8881 - acc: 0.6510\n",
        "Epoch 135/150\n",
        "768/768 [==============================] - 0s 140us/step - loss: 0.8847 - acc: 0.6510\n",
        "Epoch 136/150\n",
        "768/768 [==============================] - 0s 149us/step - loss: 0.8819 - acc: 0.6510\n",
        "Epoch 137/150\n",
        "768/768 [==============================] - 0s 148us/step - loss: 0.8789 - acc: 0.6510\n",
        "Epoch 138/150\n",
        "768/768 [==============================] - 0s 159us/step - loss: 0.8765 - acc: 0.6510\n",
        "Epoch 139/150\n",
        "768/768 [==============================] - 0s 164us/step - loss: 0.8729 - acc: 0.6510\n",
        "Epoch 140/150\n",
        "768/768 [==============================] - 0s 178us/step - loss: 0.8702 - acc: 0.6510\n",
        "Epoch 141/150\n",
        "768/768 [==============================] - 0s 158us/step - loss: 0.8669 - acc: 0.6510\n",
        "Epoch 142/150\n",
        "768/768 [==============================] - 0s 146us/step - loss: 0.8640 - acc: 0.6510\n",
        "Epoch 143/150\n",
        "768/768 [==============================] - 0s 154us/step - loss: 0.8611 - acc: 0.6510\n",
        "Epoch 144/150\n",
        "768/768 [==============================] - 0s 161us/step - loss: 0.8588 - acc: 0.6510\n",
        "Epoch 145/150\n",
        "768/768 [==============================] - 0s 153us/step - loss: 0.8554 - acc: 0.6510\n",
        "Epoch 146/150\n",
        "768/768 [==============================] - 0s 157us/step - loss: 0.8517 - acc: 0.6510\n",
        "Epoch 147/150\n",
        "768/768 [==============================] - 0s 146us/step - loss: 0.8482 - acc: 0.6510\n",
        "Epoch 148/150\n",
        "768/768 [==============================] - 0s 133us/step - loss: 0.8446 - acc: 0.6510\n",
        "Epoch 149/150\n",
        "768/768 [==============================] - 0s 152us/step - loss: 0.8412 - acc: 0.6510\n",
        "Epoch 150/150\n",
        "768/768 [==============================] - 0s 149us/step - loss: 0.8385 - acc: 0.6510\n",
        "<keras.callbacks.History at 0x7f9ed9122390>"
      ]
    },
    {
      "cell_type": "markdown",
      "metadata": {
        "id": "OYOV62LqtUMY",
        "colab_type": "text"
      },
      "source": [
        "#Evaluate Keras Model"
      ]
    },
    {
      "cell_type": "code",
      "metadata": {
        "id": "EvnxnPIgtWWh",
        "colab_type": "code",
        "colab": {}
      },
      "source": [
        "# evaluate the keras model\n",
        "_, accuracy = model.evaluate(X, y)\n",
        "print('Accuracy: %.2f' % (accuracy*100))"
      ],
      "execution_count": 0,
      "outputs": []
    },
    {
      "cell_type": "markdown",
      "metadata": {
        "id": "ghhB2XQs1Ujz",
        "colab_type": "text"
      },
      "source": [
        "### Output\n",
        "768/768 [==============================] - 0s 118us/step <br>\n",
        "Accuracy: 65.10"
      ]
    },
    {
      "cell_type": "markdown",
      "metadata": {
        "id": "jXn6vvh3uhya",
        "colab_type": "text"
      },
      "source": [
        "#Thank you for completing this notebook"
      ]
    }
  ]
}
